{
  "nbformat": 4,
  "nbformat_minor": 0,
  "metadata": {
    "colab": {
      "provenance": [],
      "authorship_tag": "ABX9TyPlMURa2htl+CL8UFXuyAcP",
      "include_colab_link": true
    },
    "kernelspec": {
      "name": "python3",
      "display_name": "Python 3"
    },
    "language_info": {
      "name": "python"
    }
  },
  "cells": [
    {
      "cell_type": "markdown",
      "metadata": {
        "id": "view-in-github",
        "colab_type": "text"
      },
      "source": [
        "<a href=\"https://colab.research.google.com/github/KarenYu729/Pytorch-Note/blob/note/pytorch_learning_note1.ipynb\" target=\"_parent\"><img src=\"https://colab.research.google.com/assets/colab-badge.svg\" alt=\"Open In Colab\"/></a>"
      ]
    },
    {
      "cell_type": "markdown",
      "source": [
        "# Torch and Numpy\n",
        "\n",
        "*reference*\n",
        "</br>\n",
        "(https://github.com/MorvanZhou/PyTorch-Tutorial/blob/master/tutorial-contents-notebooks/201_torch_numpy.ipynb)"
      ],
      "metadata": {
        "id": "7tMB-UDJsk2g"
      }
    },
    {
      "cell_type": "markdown",
      "source": [
        "</br></br></br>\n",
        "**numpy-dataframe-tensor**\n",
        "\n",
        "</br>\n",
        "convert numpy/dataframe to tensor or vise versa\n",
        "</br>\n",
        "**加粗文字**"
      ],
      "metadata": {
        "id": "KgA9ZaKqs8wu"
      }
    },
    {
      "cell_type": "code",
      "source": [
        "import torch\n",
        "import numpy as np\n",
        "# convert numpy to tensor or vise versa\n",
        "np_data = np.arange(6).reshape((2, 3))\n",
        "torch_data = torch.from_numpy(np_data)\n",
        "tensor2array = torch_data.numpy()\n",
        "print(\n",
        "    '\\nnumpy array:', np_data,          # [[0 1 2], [3 4 5]]\n",
        "    '\\ntorch tensor:', torch_data,      #  0  1  2 \\n 3  4  5    [torch.LongTensor of size 2x3]\n",
        "    '\\ntensor to array:', tensor2array, # [[0 1 2], [3 4 5]]\n",
        ")\n",
        "# numpy array: [[0 1 2]\n",
        "#  [3 4 5]] \n",
        "# torch tensor: tensor([[ 0,  1,  2],\n",
        "#         [ 3,  4,  5]], dtype=torch.int32) \n",
        "# tensor to array: [[0 1 2]\n",
        "#  [3 4 5]]"
      ],
      "metadata": {
        "id": "WC8KOQqgxMLp"
      },
      "execution_count": null,
      "outputs": []
    },
    {
      "cell_type": "code",
      "execution_count": 2,
      "metadata": {
        "colab": {
          "base_uri": "https://localhost:8080/",
          "height": 206
        },
        "id": "EJnWTmLBsZVc",
        "outputId": "68966a2d-3302-4d5f-9434-17121d3fa034"
      },
      "outputs": [
        {
          "output_type": "execute_result",
          "data": {
            "text/plain": [
              "   No. name  hour  hourPay  salary\n",
              "0    1    A     5       20     100\n",
              "1    2    B     6       25     150\n",
              "2    3    C     6       26     156\n",
              "3    4    D     8       35     280\n",
              "4    5    E     7       40     280"
            ],
            "text/html": [
              "\n",
              "  <div id=\"df-91cda570-93d1-41d8-b444-0f2dc24df955\">\n",
              "    <div class=\"colab-df-container\">\n",
              "      <div>\n",
              "<style scoped>\n",
              "    .dataframe tbody tr th:only-of-type {\n",
              "        vertical-align: middle;\n",
              "    }\n",
              "\n",
              "    .dataframe tbody tr th {\n",
              "        vertical-align: top;\n",
              "    }\n",
              "\n",
              "    .dataframe thead th {\n",
              "        text-align: right;\n",
              "    }\n",
              "</style>\n",
              "<table border=\"1\" class=\"dataframe\">\n",
              "  <thead>\n",
              "    <tr style=\"text-align: right;\">\n",
              "      <th></th>\n",
              "      <th>No.</th>\n",
              "      <th>name</th>\n",
              "      <th>hour</th>\n",
              "      <th>hourPay</th>\n",
              "      <th>salary</th>\n",
              "    </tr>\n",
              "  </thead>\n",
              "  <tbody>\n",
              "    <tr>\n",
              "      <th>0</th>\n",
              "      <td>1</td>\n",
              "      <td>A</td>\n",
              "      <td>5</td>\n",
              "      <td>20</td>\n",
              "      <td>100</td>\n",
              "    </tr>\n",
              "    <tr>\n",
              "      <th>1</th>\n",
              "      <td>2</td>\n",
              "      <td>B</td>\n",
              "      <td>6</td>\n",
              "      <td>25</td>\n",
              "      <td>150</td>\n",
              "    </tr>\n",
              "    <tr>\n",
              "      <th>2</th>\n",
              "      <td>3</td>\n",
              "      <td>C</td>\n",
              "      <td>6</td>\n",
              "      <td>26</td>\n",
              "      <td>156</td>\n",
              "    </tr>\n",
              "    <tr>\n",
              "      <th>3</th>\n",
              "      <td>4</td>\n",
              "      <td>D</td>\n",
              "      <td>8</td>\n",
              "      <td>35</td>\n",
              "      <td>280</td>\n",
              "    </tr>\n",
              "    <tr>\n",
              "      <th>4</th>\n",
              "      <td>5</td>\n",
              "      <td>E</td>\n",
              "      <td>7</td>\n",
              "      <td>40</td>\n",
              "      <td>280</td>\n",
              "    </tr>\n",
              "  </tbody>\n",
              "</table>\n",
              "</div>\n",
              "      <button class=\"colab-df-convert\" onclick=\"convertToInteractive('df-91cda570-93d1-41d8-b444-0f2dc24df955')\"\n",
              "              title=\"Convert this dataframe to an interactive table.\"\n",
              "              style=\"display:none;\">\n",
              "        \n",
              "  <svg xmlns=\"http://www.w3.org/2000/svg\" height=\"24px\"viewBox=\"0 0 24 24\"\n",
              "       width=\"24px\">\n",
              "    <path d=\"M0 0h24v24H0V0z\" fill=\"none\"/>\n",
              "    <path d=\"M18.56 5.44l.94 2.06.94-2.06 2.06-.94-2.06-.94-.94-2.06-.94 2.06-2.06.94zm-11 1L8.5 8.5l.94-2.06 2.06-.94-2.06-.94L8.5 2.5l-.94 2.06-2.06.94zm10 10l.94 2.06.94-2.06 2.06-.94-2.06-.94-.94-2.06-.94 2.06-2.06.94z\"/><path d=\"M17.41 7.96l-1.37-1.37c-.4-.4-.92-.59-1.43-.59-.52 0-1.04.2-1.43.59L10.3 9.45l-7.72 7.72c-.78.78-.78 2.05 0 2.83L4 21.41c.39.39.9.59 1.41.59.51 0 1.02-.2 1.41-.59l7.78-7.78 2.81-2.81c.8-.78.8-2.07 0-2.86zM5.41 20L4 18.59l7.72-7.72 1.47 1.35L5.41 20z\"/>\n",
              "  </svg>\n",
              "      </button>\n",
              "      \n",
              "  <style>\n",
              "    .colab-df-container {\n",
              "      display:flex;\n",
              "      flex-wrap:wrap;\n",
              "      gap: 12px;\n",
              "    }\n",
              "\n",
              "    .colab-df-convert {\n",
              "      background-color: #E8F0FE;\n",
              "      border: none;\n",
              "      border-radius: 50%;\n",
              "      cursor: pointer;\n",
              "      display: none;\n",
              "      fill: #1967D2;\n",
              "      height: 32px;\n",
              "      padding: 0 0 0 0;\n",
              "      width: 32px;\n",
              "    }\n",
              "\n",
              "    .colab-df-convert:hover {\n",
              "      background-color: #E2EBFA;\n",
              "      box-shadow: 0px 1px 2px rgba(60, 64, 67, 0.3), 0px 1px 3px 1px rgba(60, 64, 67, 0.15);\n",
              "      fill: #174EA6;\n",
              "    }\n",
              "\n",
              "    [theme=dark] .colab-df-convert {\n",
              "      background-color: #3B4455;\n",
              "      fill: #D2E3FC;\n",
              "    }\n",
              "\n",
              "    [theme=dark] .colab-df-convert:hover {\n",
              "      background-color: #434B5C;\n",
              "      box-shadow: 0px 1px 3px 1px rgba(0, 0, 0, 0.15);\n",
              "      filter: drop-shadow(0px 1px 2px rgba(0, 0, 0, 0.3));\n",
              "      fill: #FFFFFF;\n",
              "    }\n",
              "  </style>\n",
              "\n",
              "      <script>\n",
              "        const buttonEl =\n",
              "          document.querySelector('#df-91cda570-93d1-41d8-b444-0f2dc24df955 button.colab-df-convert');\n",
              "        buttonEl.style.display =\n",
              "          google.colab.kernel.accessAllowed ? 'block' : 'none';\n",
              "\n",
              "        async function convertToInteractive(key) {\n",
              "          const element = document.querySelector('#df-91cda570-93d1-41d8-b444-0f2dc24df955');\n",
              "          const dataTable =\n",
              "            await google.colab.kernel.invokeFunction('convertToInteractive',\n",
              "                                                     [key], {});\n",
              "          if (!dataTable) return;\n",
              "\n",
              "          const docLinkHtml = 'Like what you see? Visit the ' +\n",
              "            '<a target=\"_blank\" href=https://colab.research.google.com/notebooks/data_table.ipynb>data table notebook</a>'\n",
              "            + ' to learn more about interactive tables.';\n",
              "          element.innerHTML = '';\n",
              "          dataTable['output_type'] = 'display_data';\n",
              "          await google.colab.output.renderOutput(dataTable, element);\n",
              "          const docLink = document.createElement('div');\n",
              "          docLink.innerHTML = docLinkHtml;\n",
              "          element.appendChild(docLink);\n",
              "        }\n",
              "      </script>\n",
              "    </div>\n",
              "  </div>\n",
              "  "
            ]
          },
          "metadata": {},
          "execution_count": 2
        }
      ],
      "source": [
        "# create a dataframe\n",
        "import pandas as pd\n",
        "df = pd.DataFrame({\n",
        "    'No.': [1,2,3,4,5],\n",
        "    'name': ['A', 'B', 'C', 'D', 'E'],\n",
        "    'hour': [5, 6, 6, 8, 7],\n",
        "    'hourPay': [20, 25, 26, 35, 40]\n",
        "})\n",
        "df['salary'] = df['hour']*df['hourPay']\n",
        "df"
      ]
    },
    {
      "cell_type": "markdown",
      "source": [
        "\n",
        "\n",
        "---\n",
        "dataframe to numpy\n"
      ],
      "metadata": {
        "id": "ExM5SW4oyruE"
      }
    },
    {
      "cell_type": "code",
      "source": [
        "# dataframe to numpy\n",
        "import numpy as np\n",
        "df = df[['hour', 'hourPay', 'salary']]\n",
        "npdf = np.array(df)\n",
        "npdf\n",
        "# pd.DataFrame({\"A\":[1, 2], \"B\":[3, 4]}).to_numpy()\n",
        "# df"
      ],
      "metadata": {
        "colab": {
          "base_uri": "https://localhost:8080/"
        },
        "id": "vx25fdCjuBYf",
        "outputId": "4f8bdbb1-de77-4607-b148-790798468fa1"
      },
      "execution_count": 12,
      "outputs": [
        {
          "output_type": "execute_result",
          "data": {
            "text/plain": [
              "array([[  5,  20, 100],\n",
              "       [  6,  25, 150],\n",
              "       [  6,  26, 156],\n",
              "       [  8,  35, 280],\n",
              "       [  7,  40, 280]])"
            ]
          },
          "metadata": {},
          "execution_count": 12
        }
      ]
    },
    {
      "cell_type": "markdown",
      "source": [
        "\n",
        "\n",
        "---\n",
        "dataframe to tensor\n"
      ],
      "metadata": {
        "id": "hdoZJweuy1HF"
      }
    },
    {
      "cell_type": "code",
      "source": [
        "# dataframe to tensor\n",
        "import torch\n",
        "train_data = torch.tensor(df.values)\n",
        "train_data"
      ],
      "metadata": {
        "colab": {
          "base_uri": "https://localhost:8080/"
        },
        "id": "DGvwY2sWtnLU",
        "outputId": "e7d346c2-0fec-4cad-f560-686f5f340327"
      },
      "execution_count": 13,
      "outputs": [
        {
          "output_type": "execute_result",
          "data": {
            "text/plain": [
              "tensor([[  5,  20, 100],\n",
              "        [  6,  25, 150],\n",
              "        [  6,  26, 156],\n",
              "        [  8,  35, 280],\n",
              "        [  7,  40, 280]])"
            ]
          },
          "metadata": {},
          "execution_count": 13
        }
      ]
    },
    {
      "cell_type": "markdown",
      "source": [
        "\n",
        "\n",
        "---\n",
        "numpy to tensor\n"
      ],
      "metadata": {
        "id": "tm-Sp1PZy4aO"
      }
    },
    {
      "cell_type": "code",
      "source": [
        "# numpy to tensor\n",
        "import torch\n",
        "np_t = torch.from_numpy(npdf)\n",
        "np_t"
      ],
      "metadata": {
        "colab": {
          "base_uri": "https://localhost:8080/"
        },
        "id": "EvJEPFM0vlhB",
        "outputId": "882644f2-8573-4778-bb72-17197356663e"
      },
      "execution_count": 15,
      "outputs": [
        {
          "output_type": "execute_result",
          "data": {
            "text/plain": [
              "tensor([[  5,  20, 100],\n",
              "        [  6,  25, 150],\n",
              "        [  6,  26, 156],\n",
              "        [  8,  35, 280],\n",
              "        [  7,  40, 280]])"
            ]
          },
          "metadata": {},
          "execution_count": 15
        }
      ]
    },
    {
      "cell_type": "markdown",
      "source": [
        "\n",
        "\n",
        "---\n",
        "numpy to df\n"
      ],
      "metadata": {
        "id": "lYCzSeQQy9ZQ"
      }
    },
    {
      "cell_type": "code",
      "source": [
        "# numpy to df\n",
        "import pandas as pd\n",
        "new_df = pd.DataFrame(npdf)\n",
        "new_df"
      ],
      "metadata": {
        "colab": {
          "base_uri": "https://localhost:8080/",
          "height": 206
        },
        "id": "wHGws_agv4Dw",
        "outputId": "1498a343-6479-4b02-9b52-f976d4116eb2"
      },
      "execution_count": 16,
      "outputs": [
        {
          "output_type": "execute_result",
          "data": {
            "text/plain": [
              "   0   1    2\n",
              "0  5  20  100\n",
              "1  6  25  150\n",
              "2  6  26  156\n",
              "3  8  35  280\n",
              "4  7  40  280"
            ],
            "text/html": [
              "\n",
              "  <div id=\"df-c3a482cc-7784-4491-be75-266ec745a10e\">\n",
              "    <div class=\"colab-df-container\">\n",
              "      <div>\n",
              "<style scoped>\n",
              "    .dataframe tbody tr th:only-of-type {\n",
              "        vertical-align: middle;\n",
              "    }\n",
              "\n",
              "    .dataframe tbody tr th {\n",
              "        vertical-align: top;\n",
              "    }\n",
              "\n",
              "    .dataframe thead th {\n",
              "        text-align: right;\n",
              "    }\n",
              "</style>\n",
              "<table border=\"1\" class=\"dataframe\">\n",
              "  <thead>\n",
              "    <tr style=\"text-align: right;\">\n",
              "      <th></th>\n",
              "      <th>0</th>\n",
              "      <th>1</th>\n",
              "      <th>2</th>\n",
              "    </tr>\n",
              "  </thead>\n",
              "  <tbody>\n",
              "    <tr>\n",
              "      <th>0</th>\n",
              "      <td>5</td>\n",
              "      <td>20</td>\n",
              "      <td>100</td>\n",
              "    </tr>\n",
              "    <tr>\n",
              "      <th>1</th>\n",
              "      <td>6</td>\n",
              "      <td>25</td>\n",
              "      <td>150</td>\n",
              "    </tr>\n",
              "    <tr>\n",
              "      <th>2</th>\n",
              "      <td>6</td>\n",
              "      <td>26</td>\n",
              "      <td>156</td>\n",
              "    </tr>\n",
              "    <tr>\n",
              "      <th>3</th>\n",
              "      <td>8</td>\n",
              "      <td>35</td>\n",
              "      <td>280</td>\n",
              "    </tr>\n",
              "    <tr>\n",
              "      <th>4</th>\n",
              "      <td>7</td>\n",
              "      <td>40</td>\n",
              "      <td>280</td>\n",
              "    </tr>\n",
              "  </tbody>\n",
              "</table>\n",
              "</div>\n",
              "      <button class=\"colab-df-convert\" onclick=\"convertToInteractive('df-c3a482cc-7784-4491-be75-266ec745a10e')\"\n",
              "              title=\"Convert this dataframe to an interactive table.\"\n",
              "              style=\"display:none;\">\n",
              "        \n",
              "  <svg xmlns=\"http://www.w3.org/2000/svg\" height=\"24px\"viewBox=\"0 0 24 24\"\n",
              "       width=\"24px\">\n",
              "    <path d=\"M0 0h24v24H0V0z\" fill=\"none\"/>\n",
              "    <path d=\"M18.56 5.44l.94 2.06.94-2.06 2.06-.94-2.06-.94-.94-2.06-.94 2.06-2.06.94zm-11 1L8.5 8.5l.94-2.06 2.06-.94-2.06-.94L8.5 2.5l-.94 2.06-2.06.94zm10 10l.94 2.06.94-2.06 2.06-.94-2.06-.94-.94-2.06-.94 2.06-2.06.94z\"/><path d=\"M17.41 7.96l-1.37-1.37c-.4-.4-.92-.59-1.43-.59-.52 0-1.04.2-1.43.59L10.3 9.45l-7.72 7.72c-.78.78-.78 2.05 0 2.83L4 21.41c.39.39.9.59 1.41.59.51 0 1.02-.2 1.41-.59l7.78-7.78 2.81-2.81c.8-.78.8-2.07 0-2.86zM5.41 20L4 18.59l7.72-7.72 1.47 1.35L5.41 20z\"/>\n",
              "  </svg>\n",
              "      </button>\n",
              "      \n",
              "  <style>\n",
              "    .colab-df-container {\n",
              "      display:flex;\n",
              "      flex-wrap:wrap;\n",
              "      gap: 12px;\n",
              "    }\n",
              "\n",
              "    .colab-df-convert {\n",
              "      background-color: #E8F0FE;\n",
              "      border: none;\n",
              "      border-radius: 50%;\n",
              "      cursor: pointer;\n",
              "      display: none;\n",
              "      fill: #1967D2;\n",
              "      height: 32px;\n",
              "      padding: 0 0 0 0;\n",
              "      width: 32px;\n",
              "    }\n",
              "\n",
              "    .colab-df-convert:hover {\n",
              "      background-color: #E2EBFA;\n",
              "      box-shadow: 0px 1px 2px rgba(60, 64, 67, 0.3), 0px 1px 3px 1px rgba(60, 64, 67, 0.15);\n",
              "      fill: #174EA6;\n",
              "    }\n",
              "\n",
              "    [theme=dark] .colab-df-convert {\n",
              "      background-color: #3B4455;\n",
              "      fill: #D2E3FC;\n",
              "    }\n",
              "\n",
              "    [theme=dark] .colab-df-convert:hover {\n",
              "      background-color: #434B5C;\n",
              "      box-shadow: 0px 1px 3px 1px rgba(0, 0, 0, 0.15);\n",
              "      filter: drop-shadow(0px 1px 2px rgba(0, 0, 0, 0.3));\n",
              "      fill: #FFFFFF;\n",
              "    }\n",
              "  </style>\n",
              "\n",
              "      <script>\n",
              "        const buttonEl =\n",
              "          document.querySelector('#df-c3a482cc-7784-4491-be75-266ec745a10e button.colab-df-convert');\n",
              "        buttonEl.style.display =\n",
              "          google.colab.kernel.accessAllowed ? 'block' : 'none';\n",
              "\n",
              "        async function convertToInteractive(key) {\n",
              "          const element = document.querySelector('#df-c3a482cc-7784-4491-be75-266ec745a10e');\n",
              "          const dataTable =\n",
              "            await google.colab.kernel.invokeFunction('convertToInteractive',\n",
              "                                                     [key], {});\n",
              "          if (!dataTable) return;\n",
              "\n",
              "          const docLinkHtml = 'Like what you see? Visit the ' +\n",
              "            '<a target=\"_blank\" href=https://colab.research.google.com/notebooks/data_table.ipynb>data table notebook</a>'\n",
              "            + ' to learn more about interactive tables.';\n",
              "          element.innerHTML = '';\n",
              "          dataTable['output_type'] = 'display_data';\n",
              "          await google.colab.output.renderOutput(dataTable, element);\n",
              "          const docLink = document.createElement('div');\n",
              "          docLink.innerHTML = docLinkHtml;\n",
              "          element.appendChild(docLink);\n",
              "        }\n",
              "      </script>\n",
              "    </div>\n",
              "  </div>\n",
              "  "
            ]
          },
          "metadata": {},
          "execution_count": 16
        }
      ]
    },
    {
      "cell_type": "markdown",
      "source": [
        "\n",
        "\n",
        "---\n",
        "tensor to dataframe\n"
      ],
      "metadata": {
        "id": "dpWw6Xe7y_2Z"
      }
    },
    {
      "cell_type": "code",
      "source": [
        "# tensor to dataframe\n",
        "import pandas as pd\n",
        "newTdf = pd.DataFrame(train_data)\n",
        "newTdf"
      ],
      "metadata": {
        "colab": {
          "base_uri": "https://localhost:8080/",
          "height": 206
        },
        "id": "5NUG4stAwRZv",
        "outputId": "e6fed3ec-00eb-4c73-89f0-71e706e4b39f"
      },
      "execution_count": 17,
      "outputs": [
        {
          "output_type": "execute_result",
          "data": {
            "text/plain": [
              "           0           1            2\n",
              "0  tensor(5)  tensor(20)  tensor(100)\n",
              "1  tensor(6)  tensor(25)  tensor(150)\n",
              "2  tensor(6)  tensor(26)  tensor(156)\n",
              "3  tensor(8)  tensor(35)  tensor(280)\n",
              "4  tensor(7)  tensor(40)  tensor(280)"
            ],
            "text/html": [
              "\n",
              "  <div id=\"df-9896787a-58a1-4371-b627-a2670417858d\">\n",
              "    <div class=\"colab-df-container\">\n",
              "      <div>\n",
              "<style scoped>\n",
              "    .dataframe tbody tr th:only-of-type {\n",
              "        vertical-align: middle;\n",
              "    }\n",
              "\n",
              "    .dataframe tbody tr th {\n",
              "        vertical-align: top;\n",
              "    }\n",
              "\n",
              "    .dataframe thead th {\n",
              "        text-align: right;\n",
              "    }\n",
              "</style>\n",
              "<table border=\"1\" class=\"dataframe\">\n",
              "  <thead>\n",
              "    <tr style=\"text-align: right;\">\n",
              "      <th></th>\n",
              "      <th>0</th>\n",
              "      <th>1</th>\n",
              "      <th>2</th>\n",
              "    </tr>\n",
              "  </thead>\n",
              "  <tbody>\n",
              "    <tr>\n",
              "      <th>0</th>\n",
              "      <td>tensor(5)</td>\n",
              "      <td>tensor(20)</td>\n",
              "      <td>tensor(100)</td>\n",
              "    </tr>\n",
              "    <tr>\n",
              "      <th>1</th>\n",
              "      <td>tensor(6)</td>\n",
              "      <td>tensor(25)</td>\n",
              "      <td>tensor(150)</td>\n",
              "    </tr>\n",
              "    <tr>\n",
              "      <th>2</th>\n",
              "      <td>tensor(6)</td>\n",
              "      <td>tensor(26)</td>\n",
              "      <td>tensor(156)</td>\n",
              "    </tr>\n",
              "    <tr>\n",
              "      <th>3</th>\n",
              "      <td>tensor(8)</td>\n",
              "      <td>tensor(35)</td>\n",
              "      <td>tensor(280)</td>\n",
              "    </tr>\n",
              "    <tr>\n",
              "      <th>4</th>\n",
              "      <td>tensor(7)</td>\n",
              "      <td>tensor(40)</td>\n",
              "      <td>tensor(280)</td>\n",
              "    </tr>\n",
              "  </tbody>\n",
              "</table>\n",
              "</div>\n",
              "      <button class=\"colab-df-convert\" onclick=\"convertToInteractive('df-9896787a-58a1-4371-b627-a2670417858d')\"\n",
              "              title=\"Convert this dataframe to an interactive table.\"\n",
              "              style=\"display:none;\">\n",
              "        \n",
              "  <svg xmlns=\"http://www.w3.org/2000/svg\" height=\"24px\"viewBox=\"0 0 24 24\"\n",
              "       width=\"24px\">\n",
              "    <path d=\"M0 0h24v24H0V0z\" fill=\"none\"/>\n",
              "    <path d=\"M18.56 5.44l.94 2.06.94-2.06 2.06-.94-2.06-.94-.94-2.06-.94 2.06-2.06.94zm-11 1L8.5 8.5l.94-2.06 2.06-.94-2.06-.94L8.5 2.5l-.94 2.06-2.06.94zm10 10l.94 2.06.94-2.06 2.06-.94-2.06-.94-.94-2.06-.94 2.06-2.06.94z\"/><path d=\"M17.41 7.96l-1.37-1.37c-.4-.4-.92-.59-1.43-.59-.52 0-1.04.2-1.43.59L10.3 9.45l-7.72 7.72c-.78.78-.78 2.05 0 2.83L4 21.41c.39.39.9.59 1.41.59.51 0 1.02-.2 1.41-.59l7.78-7.78 2.81-2.81c.8-.78.8-2.07 0-2.86zM5.41 20L4 18.59l7.72-7.72 1.47 1.35L5.41 20z\"/>\n",
              "  </svg>\n",
              "      </button>\n",
              "      \n",
              "  <style>\n",
              "    .colab-df-container {\n",
              "      display:flex;\n",
              "      flex-wrap:wrap;\n",
              "      gap: 12px;\n",
              "    }\n",
              "\n",
              "    .colab-df-convert {\n",
              "      background-color: #E8F0FE;\n",
              "      border: none;\n",
              "      border-radius: 50%;\n",
              "      cursor: pointer;\n",
              "      display: none;\n",
              "      fill: #1967D2;\n",
              "      height: 32px;\n",
              "      padding: 0 0 0 0;\n",
              "      width: 32px;\n",
              "    }\n",
              "\n",
              "    .colab-df-convert:hover {\n",
              "      background-color: #E2EBFA;\n",
              "      box-shadow: 0px 1px 2px rgba(60, 64, 67, 0.3), 0px 1px 3px 1px rgba(60, 64, 67, 0.15);\n",
              "      fill: #174EA6;\n",
              "    }\n",
              "\n",
              "    [theme=dark] .colab-df-convert {\n",
              "      background-color: #3B4455;\n",
              "      fill: #D2E3FC;\n",
              "    }\n",
              "\n",
              "    [theme=dark] .colab-df-convert:hover {\n",
              "      background-color: #434B5C;\n",
              "      box-shadow: 0px 1px 3px 1px rgba(0, 0, 0, 0.15);\n",
              "      filter: drop-shadow(0px 1px 2px rgba(0, 0, 0, 0.3));\n",
              "      fill: #FFFFFF;\n",
              "    }\n",
              "  </style>\n",
              "\n",
              "      <script>\n",
              "        const buttonEl =\n",
              "          document.querySelector('#df-9896787a-58a1-4371-b627-a2670417858d button.colab-df-convert');\n",
              "        buttonEl.style.display =\n",
              "          google.colab.kernel.accessAllowed ? 'block' : 'none';\n",
              "\n",
              "        async function convertToInteractive(key) {\n",
              "          const element = document.querySelector('#df-9896787a-58a1-4371-b627-a2670417858d');\n",
              "          const dataTable =\n",
              "            await google.colab.kernel.invokeFunction('convertToInteractive',\n",
              "                                                     [key], {});\n",
              "          if (!dataTable) return;\n",
              "\n",
              "          const docLinkHtml = 'Like what you see? Visit the ' +\n",
              "            '<a target=\"_blank\" href=https://colab.research.google.com/notebooks/data_table.ipynb>data table notebook</a>'\n",
              "            + ' to learn more about interactive tables.';\n",
              "          element.innerHTML = '';\n",
              "          dataTable['output_type'] = 'display_data';\n",
              "          await google.colab.output.renderOutput(dataTable, element);\n",
              "          const docLink = document.createElement('div');\n",
              "          docLink.innerHTML = docLinkHtml;\n",
              "          element.appendChild(docLink);\n",
              "        }\n",
              "      </script>\n",
              "    </div>\n",
              "  </div>\n",
              "  "
            ]
          },
          "metadata": {},
          "execution_count": 17
        }
      ]
    },
    {
      "cell_type": "markdown",
      "source": [
        "\n",
        "\n",
        "---\n",
        "tensor to numpy\n"
      ],
      "metadata": {
        "id": "pee8np5mzCa7"
      }
    },
    {
      "cell_type": "code",
      "source": [
        "# tensor to numpy\n",
        "np_t = train_data.numpy()\n",
        "np_t"
      ],
      "metadata": {
        "colab": {
          "base_uri": "https://localhost:8080/"
        },
        "id": "CYMhzNbywjl7",
        "outputId": "55613d49-120f-4069-9ce2-c050cbf6684c"
      },
      "execution_count": 18,
      "outputs": [
        {
          "output_type": "execute_result",
          "data": {
            "text/plain": [
              "array([[  5,  20, 100],\n",
              "       [  6,  25, 150],\n",
              "       [  6,  26, 156],\n",
              "       [  8,  35, 280],\n",
              "       [  7,  40, 280]])"
            ]
          },
          "metadata": {},
          "execution_count": 18
        }
      ]
    },
    {
      "cell_type": "markdown",
      "source": [
        "</br></br></br>\n",
        "**torch calculation**\n",
        "</br>\n",
        "一些关于tensor的计算"
      ],
      "metadata": {
        "id": "WVJSV_c2xZwv"
      }
    },
    {
      "cell_type": "code",
      "source": [
        "#-----------------------------------------------------------------\n",
        "# abs\n",
        "data = [-1, -2, 1, 2]\n",
        "tensor = torch.FloatTensor(data)  # 32-bit floating point\n",
        "print(\n",
        "    '\\nabs',\n",
        "    '\\nnumpy: ', np.abs(data),          # [1 2 1 2]\n",
        "    '\\ntorch: ', torch.abs(tensor)      # [1 2 1 2]\n",
        ")\n",
        "# abs \n",
        "# numpy:  [1 2 1 2] \n",
        "# torch:  tensor([ 1.,  2.,  1.,  2.])\n",
        "tensor.abs()\n",
        "# tensor([ 1.,  2.,  1.,  2.])\n",
        "#-----------------------------------------------------------------\n",
        "# sin\n",
        "print(\n",
        "    '\\nsin',\n",
        "    '\\nnumpy: ', np.sin(data),      # [-0.84147098 -0.90929743  0.84147098  0.90929743]\n",
        "    '\\ntorch: ', torch.sin(tensor)  # [-0.8415 -0.9093  0.8415  0.9093]\n",
        ")\n",
        "# sin \n",
        "# numpy:  [-0.84147098 -0.90929743  0.84147098  0.90929743] \n",
        "# torch:  tensor([-0.8415, -0.9093,  0.8415,  0.9093])\n",
        "#-----------------------------------------------------------------\n",
        "tensor.sigmoid()\n",
        "# tensor([ 0.2689,  0.1192,  0.7311,  0.8808])\n",
        "#-----------------------------------------------------------------\n",
        "tensor.exp()\n",
        "# tensor([ 0.3679,  0.1353,  2.7183,  7.3891])\n",
        "#-----------------------------------------------------------------\n",
        "# mean\n",
        "print(\n",
        "    '\\nmean',\n",
        "    '\\nnumpy: ', np.mean(data),         # 0.0\n",
        "    '\\ntorch: ', torch.mean(tensor)     # 0.0\n",
        ")\n",
        "# mean \n",
        "# numpy:  0.0 \n",
        "# torch:  tensor(0.)\n",
        "#-----------------------------------------------------------------\n",
        "# matrix multiplication\n",
        "data = [[1,2], [3,4]]\n",
        "tensor = torch.FloatTensor(data)  # 32-bit floating point\n",
        "# correct method\n",
        "print(\n",
        "    '\\nmatrix multiplication (matmul)',\n",
        "    '\\nnumpy: ', np.matmul(data, data),     # [[7, 10], [15, 22]]\n",
        "    '\\ntorch: ', torch.mm(tensor, tensor)   # [[7, 10], [15, 22]]\n",
        ")\n",
        "# matrix multiplication (matmul) \n",
        "# numpy:  [[ 7 10]\n",
        "#  [15 22]] \n",
        "# torch:  tensor([[ 7., 10.],\n",
        "#         [15., 22.]])\n",
        "#-----------------------------------------------------------------\n",
        "# incorrect method\n",
        "data = np.array(data)\n",
        "tensor = torch.Tensor(data)\n",
        "print(\n",
        "    '\\nmatrix multiplication (dot)',\n",
        "    '\\nnumpy: ', data.dot(data),        # [[7, 10], [15, 22]]\n",
        "    '\\ntorch: ', torch.dot(tensor.dot(tensor))     # NOT WORKING! Beware that torch.dot does not broadcast, only works for 1-dimensional tensor\n",
        ")\n",
        "# ---------------------------------------------------------------------------\n",
        "# RuntimeError                              Traceback (most recent call last)\n",
        "#  in ()\n",
        "#       5     '\\nmatrix multiplication (dot)',\n",
        "#       6     '\\nnumpy: ', data.dot(data),        # [[7, 10], [15, 22]]\n",
        "# ----> 7     '\\ntorch: ', torch.dot(tensor.dot(tensor))     # 30.0. Beware that torch.dot does not broadcast, only works for 1-dimensional tensor\n",
        "#       8 )\n",
        "\n",
        "# RuntimeError: dot: Expected 1-D argument self, but got 2-D\n",
        "# Note that:\n",
        "\n",
        "# torch.dot(tensor1, tensor2) → float\n",
        "\n",
        "# Computes the dot product (inner product) of two tensors. Both tensors are treated as 1-D vectors.\n",
        "#-----------------------------------------------------------------\n",
        "tensor.mm(tensor)\n",
        "# tensor([[  7.,  10.],\n",
        "#         [ 15.,  22.]])\n",
        "tensor * tensor\n",
        "# tensor([[  1.,   4.],\n",
        "#         [  9.,  16.]])\n",
        "torch.dot(torch.Tensor([2, 3]), torch.Tensor([2, 1]))\n",
        "# tensor(7.)"
      ],
      "metadata": {
        "id": "_poLUWbqxjHP"
      },
      "execution_count": null,
      "outputs": []
    },
    {
      "cell_type": "markdown",
      "source": [
        "\n",
        "</br></br>\n",
        "---\n",
        "绝对值\n",
        "\n",
        "abs\n"
      ],
      "metadata": {
        "id": "Yo5GgUPAzFDr"
      }
    },
    {
      "cell_type": "code",
      "source": [
        "# abs\n",
        "import torch\n",
        "import numpy as np\n",
        "data = np.array([2, 1, 0, -1, -2])\n",
        "data = torch.from_numpy(data)\n",
        "data.abs()"
      ],
      "metadata": {
        "colab": {
          "base_uri": "https://localhost:8080/"
        },
        "id": "Zvr_8VUyzQbr",
        "outputId": "d5aa7997-7f2b-4186-cd45-beee6b82bca3"
      },
      "execution_count": 19,
      "outputs": [
        {
          "output_type": "execute_result",
          "data": {
            "text/plain": [
              "tensor([2, 1, 0, 1, 2])"
            ]
          },
          "metadata": {},
          "execution_count": 19
        }
      ]
    },
    {
      "cell_type": "code",
      "source": [
        "from torch import FloatTensor\n",
        "# also, it can be change to float\n",
        "\n",
        "floatData = np.array([2, 1, 0, -1, -2])\n",
        "Ftensor = torch.FloatTensor(floatData)\n",
        "Ftensor.abs()"
      ],
      "metadata": {
        "colab": {
          "base_uri": "https://localhost:8080/"
        },
        "id": "Og009FHPzyeg",
        "outputId": "3e7f47f5-84c5-48e6-b6dd-292f569c83db"
      },
      "execution_count": 21,
      "outputs": [
        {
          "output_type": "execute_result",
          "data": {
            "text/plain": [
              "tensor([2., 1., 0., 1., 2.])"
            ]
          },
          "metadata": {},
          "execution_count": 21
        }
      ]
    },
    {
      "cell_type": "markdown",
      "source": [
        "\n",
        "</br></br>\n",
        "---\n",
        "\n",
        "\n",
        "正弦\n",
        "\n",
        "sin"
      ],
      "metadata": {
        "id": "1e8eeqKJ0X8P"
      }
    },
    {
      "cell_type": "code",
      "source": [
        "# sin\n",
        "data.sin()"
      ],
      "metadata": {
        "colab": {
          "base_uri": "https://localhost:8080/"
        },
        "id": "nhaYlO9f0d6O",
        "outputId": "de80cf65-3d56-4527-a9f3-5c3725604a8a"
      },
      "execution_count": 26,
      "outputs": [
        {
          "output_type": "execute_result",
          "data": {
            "text/plain": [
              "tensor([ 0.9093,  0.8415,  0.0000, -0.8415, -0.9093])"
            ]
          },
          "metadata": {},
          "execution_count": 26
        }
      ]
    },
    {
      "cell_type": "code",
      "source": [
        "Ftensor.sin()"
      ],
      "metadata": {
        "colab": {
          "base_uri": "https://localhost:8080/"
        },
        "id": "YuPbxgyh0keU",
        "outputId": "26313458-3384-4197-f460-85b445fcfb94"
      },
      "execution_count": 27,
      "outputs": [
        {
          "output_type": "execute_result",
          "data": {
            "text/plain": [
              "tensor([ 0.9093,  0.8415,  0.0000, -0.8415, -0.9093])"
            ]
          },
          "metadata": {},
          "execution_count": 27
        }
      ]
    },
    {
      "cell_type": "markdown",
      "source": [
        "\n",
        "</br></br>\n",
        "---\n",
        "\n",
        "sigmoid()\n"
      ],
      "metadata": {
        "id": "OKsTwX2H02HI"
      }
    },
    {
      "cell_type": "code",
      "source": [
        "data.sigmoid()"
      ],
      "metadata": {
        "colab": {
          "base_uri": "https://localhost:8080/"
        },
        "id": "PyXJdgs-09RO",
        "outputId": "fde26791-57f4-4a88-979a-93e4cca4ccce"
      },
      "execution_count": 28,
      "outputs": [
        {
          "output_type": "execute_result",
          "data": {
            "text/plain": [
              "tensor([0.8808, 0.7311, 0.5000, 0.2689, 0.1192])"
            ]
          },
          "metadata": {},
          "execution_count": 28
        }
      ]
    },
    {
      "cell_type": "markdown",
      "source": [
        "\n",
        "</br></br>\n",
        "---\n",
        "\n",
        "exp()\n"
      ],
      "metadata": {
        "id": "FFsqmCnI1C3m"
      }
    },
    {
      "cell_type": "code",
      "source": [
        "data.exp()"
      ],
      "metadata": {
        "colab": {
          "base_uri": "https://localhost:8080/"
        },
        "id": "vct0-eFQ1Fcy",
        "outputId": "7f2e7506-5824-4133-d8eb-a1175f75b903"
      },
      "execution_count": 29,
      "outputs": [
        {
          "output_type": "execute_result",
          "data": {
            "text/plain": [
              "tensor([7.3891, 2.7183, 1.0000, 0.3679, 0.1353])"
            ]
          },
          "metadata": {},
          "execution_count": 29
        }
      ]
    },
    {
      "cell_type": "markdown",
      "source": [
        "</br></br>\n",
        "\n",
        "\n",
        "---\n",
        "\n",
        "mean()"
      ],
      "metadata": {
        "id": "P1xSGfQu1ciq"
      }
    },
    {
      "cell_type": "code",
      "source": [
        "torch.mean(Ftensor)\n",
        "# 要注意一点，这里要求tensor中必须是float\n"
      ],
      "metadata": {
        "colab": {
          "base_uri": "https://localhost:8080/"
        },
        "id": "X--IQZdE1fL0",
        "outputId": "d76043bf-1514-4037-bc73-e5d53572a5a7"
      },
      "execution_count": 35,
      "outputs": [
        {
          "output_type": "execute_result",
          "data": {
            "text/plain": [
              "tensor(0.)"
            ]
          },
          "metadata": {},
          "execution_count": 35
        }
      ]
    },
    {
      "cell_type": "code",
      "source": [
        "# 所以理论上也可以\n",
        "print(torch.mean(data.float()))\n",
        "# 此时并不会改变data中的数据类型，只是在这里将data转化成float方便运算"
      ],
      "metadata": {
        "colab": {
          "base_uri": "https://localhost:8080/"
        },
        "id": "aUuwQRSK2C8F",
        "outputId": "3999b2fa-3240-42dd-f3a6-68477d9a2603"
      },
      "execution_count": 36,
      "outputs": [
        {
          "output_type": "stream",
          "name": "stdout",
          "text": [
            "tensor(0.)\n"
          ]
        }
      ]
    },
    {
      "cell_type": "code",
      "source": [
        "# 如果此时tensor不是一维的\n",
        "matrix = np.array([[2, 9, 4],[3, 5, 7],[6, 1, 8]])\n",
        "tensor = torch.Tensor(matrix)\n",
        "torch.mean(tensor)"
      ],
      "metadata": {
        "colab": {
          "base_uri": "https://localhost:8080/"
        },
        "id": "3MWYriO82SAo",
        "outputId": "7cb1e34e-e0d4-425e-f6a3-b5e1a47ca9a5"
      },
      "execution_count": 37,
      "outputs": [
        {
          "output_type": "execute_result",
          "data": {
            "text/plain": [
              "tensor(5.)"
            ]
          },
          "metadata": {},
          "execution_count": 37
        }
      ]
    },
    {
      "cell_type": "markdown",
      "source": [
        "</br></br>\n",
        "\n",
        "---\n",
        "矩阵乘法\n",
        "\n",
        "matrix multiplication"
      ],
      "metadata": {
        "id": "qoZSTISu3AUr"
      }
    },
    {
      "cell_type": "code",
      "source": [
        "torch.mm(tensor, tensor)"
      ],
      "metadata": {
        "colab": {
          "base_uri": "https://localhost:8080/"
        },
        "id": "8wS1ZPc73IVt",
        "outputId": "311be858-8784-4070-9813-8487cae8925f"
      },
      "execution_count": 38,
      "outputs": [
        {
          "output_type": "execute_result",
          "data": {
            "text/plain": [
              "tensor([[ 55.,  67., 103.],\n",
              "        [ 63.,  59., 103.],\n",
              "        [ 63.,  67.,  95.]])"
            ]
          },
          "metadata": {},
          "execution_count": 38
        }
      ]
    },
    {
      "cell_type": "code",
      "source": [
        "tensor.mm(tensor)"
      ],
      "metadata": {
        "colab": {
          "base_uri": "https://localhost:8080/"
        },
        "id": "rsEDfXRY3ofL",
        "outputId": "5b061bdf-933f-42cc-eb81-9da2e8ad540a"
      },
      "execution_count": 39,
      "outputs": [
        {
          "output_type": "execute_result",
          "data": {
            "text/plain": [
              "tensor([[ 55.,  67., 103.],\n",
              "        [ 63.,  59., 103.],\n",
              "        [ 63.,  67.,  95.]])"
            ]
          },
          "metadata": {},
          "execution_count": 39
        }
      ]
    },
    {
      "cell_type": "code",
      "source": [
        "# 乘法，对应位置相乘\n",
        "tensor * tensor"
      ],
      "metadata": {
        "colab": {
          "base_uri": "https://localhost:8080/"
        },
        "id": "0BhinSLh3rYT",
        "outputId": "9ecbec54-8e05-42fc-ef84-ba1fbd668134"
      },
      "execution_count": 40,
      "outputs": [
        {
          "output_type": "execute_result",
          "data": {
            "text/plain": [
              "tensor([[ 4., 81., 16.],\n",
              "        [ 9., 25., 49.],\n",
              "        [36.,  1., 64.]])"
            ]
          },
          "metadata": {},
          "execution_count": 40
        }
      ]
    },
    {
      "cell_type": "code",
      "source": [
        "torch.dot(torch.Tensor([2, 9, 4]), torch.Tensor([6, 1, 8]))"
      ],
      "metadata": {
        "colab": {
          "base_uri": "https://localhost:8080/"
        },
        "id": "xlqRC_jK32En",
        "outputId": "588078b3-00aa-46dc-aca5-f0042cdd82db"
      },
      "execution_count": 42,
      "outputs": [
        {
          "output_type": "execute_result",
          "data": {
            "text/plain": [
              "tensor(53.)"
            ]
          },
          "metadata": {},
          "execution_count": 42
        }
      ]
    },
    {
      "cell_type": "markdown",
      "source": [
        "</br></br>\n",
        "# Variable\n",
        "\n",
        "\n",
        "*reference*\n",
        "\n",
        "\n",
        "https://github.com/MorvanZhou/PyTorch-Tutorial/blob/master/tutorial-contents-notebooks/202_variable.ipynb"
      ],
      "metadata": {
        "id": "ezxOSyVo4RBb"
      }
    },
    {
      "cell_type": "code",
      "source": [
        "import torch\n",
        "from torch.autograd import Variable\n",
        "\n",
        "tensor = torch.FloatTensor([[1,2],[3,4]])            # build a tensor\n",
        "variable = Variable(tensor, requires_grad=True)      # build a variable, usually for compute gradients\n",
        "\n",
        "print(tensor)       # [torch.FloatTensor of size 2x2]\n",
        "print(variable)     # [torch.FloatTensor of size 2x2]"
      ],
      "metadata": {
        "colab": {
          "base_uri": "https://localhost:8080/"
        },
        "id": "ZN2lG5Mq4ioA",
        "outputId": "70c6ccf9-e17d-44ae-9c77-a4219e6ece56"
      },
      "execution_count": 66,
      "outputs": [
        {
          "output_type": "stream",
          "name": "stdout",
          "text": [
            "tensor([[1., 2.],\n",
            "        [3., 4.]])\n",
            "tensor([[1., 2.],\n",
            "        [3., 4.]], requires_grad=True)\n"
          ]
        }
      ]
    },
    {
      "cell_type": "markdown",
      "source": [
        "\n",
        "</br></br>\n",
        "---\n",
        "\n",
        "</br>\n",
        "\n",
        "### tensor 和 variable的区别\n",
        "\n",
        "**pytorch两个基本对象：Tensor（张量）和Variable（变量）\n",
        "其中，tensor不能反向传播，variable可以反向传播。**\n",
        "\n",
        "### Variable\n",
        "\n",
        "variable是一种可以不断变化的变量，符合反向传播，参数更新的属性。pytorch的variable是一个存放会变化值的地理位置，里面的值会不停变化，像装糖果（糖果就是数据，即tensor）的盒子，糖果的数量不断变化。pytorch都是由tensor计算的，而tensor里面的参数是variable形式。"
      ],
      "metadata": {
        "id": "l97RVGhvG99Q"
      }
    },
    {
      "cell_type": "code",
      "source": [
        "t_out = torch.mean(tensor*tensor)       # x^2\n",
        "v_out = torch.mean(variable*variable)   # x^2\n",
        "print(t_out)\n",
        "print(v_out)"
      ],
      "metadata": {
        "colab": {
          "base_uri": "https://localhost:8080/"
        },
        "id": "wBor1OB4G-Qz",
        "outputId": "3c8f0286-d595-44cc-81ed-775f7d995ab8"
      },
      "execution_count": 67,
      "outputs": [
        {
          "output_type": "stream",
          "name": "stdout",
          "text": [
            "tensor(7.5000)\n",
            "tensor(7.5000, grad_fn=<MeanBackward0>)\n"
          ]
        }
      ]
    },
    {
      "cell_type": "code",
      "source": [
        "v_out.backward()    # backpropagation from v_out"
      ],
      "metadata": {
        "id": "BuB6D_IvIz8V"
      },
      "execution_count": 68,
      "outputs": []
    },
    {
      "cell_type": "code",
      "source": [
        "print(variable.grad)"
      ],
      "metadata": {
        "colab": {
          "base_uri": "https://localhost:8080/"
        },
        "id": "u4Ljw5c8I8Ol",
        "outputId": "528ae8e6-c3fb-443a-f8e9-bfebfd716f39"
      },
      "execution_count": 69,
      "outputs": [
        {
          "output_type": "stream",
          "name": "stdout",
          "text": [
            "tensor([[0.5000, 1.0000],\n",
            "        [1.5000, 2.0000]])\n"
          ]
        }
      ]
    },
    {
      "cell_type": "code",
      "source": [
        "variable"
      ],
      "metadata": {
        "colab": {
          "base_uri": "https://localhost:8080/"
        },
        "id": "eVoeE7EPJt83",
        "outputId": "1aef9e04-4454-400c-cfbf-339a5193831b"
      },
      "execution_count": 70,
      "outputs": [
        {
          "output_type": "execute_result",
          "data": {
            "text/plain": [
              "tensor([[1., 2.],\n",
              "        [3., 4.]], requires_grad=True)"
            ]
          },
          "metadata": {},
          "execution_count": 70
        }
      ]
    },
    {
      "cell_type": "code",
      "source": [
        "variable.data # this is data in tensor format"
      ],
      "metadata": {
        "colab": {
          "base_uri": "https://localhost:8080/"
        },
        "id": "VlWIQcyvJyWb",
        "outputId": "c2055421-6f1f-48f5-bffb-ea81bc12fa6c"
      },
      "execution_count": 71,
      "outputs": [
        {
          "output_type": "execute_result",
          "data": {
            "text/plain": [
              "tensor([[1., 2.],\n",
              "        [3., 4.]])"
            ]
          },
          "metadata": {},
          "execution_count": 71
        }
      ]
    },
    {
      "cell_type": "code",
      "source": [
        "variable.data.numpy() # numpy format"
      ],
      "metadata": {
        "colab": {
          "base_uri": "https://localhost:8080/"
        },
        "id": "wTYSETWeJ6eT",
        "outputId": "c4a067e2-b039-4afe-99b1-a4422a185eea"
      },
      "execution_count": 72,
      "outputs": [
        {
          "output_type": "execute_result",
          "data": {
            "text/plain": [
              "array([[1., 2.],\n",
              "       [3., 4.]], dtype=float32)"
            ]
          },
          "metadata": {},
          "execution_count": 72
        }
      ]
    },
    {
      "cell_type": "code",
      "source": [
        "type(v_out)"
      ],
      "metadata": {
        "colab": {
          "base_uri": "https://localhost:8080/"
        },
        "id": "lAkwB0PIJ-zT",
        "outputId": "b6e73941-a662-4e77-c7ec-f67037c871de"
      },
      "execution_count": 73,
      "outputs": [
        {
          "output_type": "execute_result",
          "data": {
            "text/plain": [
              "torch.Tensor"
            ]
          },
          "metadata": {},
          "execution_count": 73
        }
      ]
    },
    {
      "cell_type": "code",
      "source": [
        "type(v_out.data)"
      ],
      "metadata": {
        "colab": {
          "base_uri": "https://localhost:8080/"
        },
        "id": "omicD-kVKBSr",
        "outputId": "57be4329-a516-4e05-cc7e-f3f872ea0160"
      },
      "execution_count": 74,
      "outputs": [
        {
          "output_type": "execute_result",
          "data": {
            "text/plain": [
              "torch.Tensor"
            ]
          },
          "metadata": {},
          "execution_count": 74
        }
      ]
    },
    {
      "cell_type": "markdown",
      "source": [
        "</br>\n",
        "\n",
        "# Activation\n",
        "\n",
        "## 激活函数"
      ],
      "metadata": {
        "id": "K3ykw9SXKbqE"
      }
    },
    {
      "cell_type": "code",
      "source": [
        "import torch\n",
        "import torch.nn.functional as F\n",
        "from torch.autograd import Variable\n",
        "import matplotlib.pyplot as plt"
      ],
      "metadata": {
        "id": "v_SU0L0KLkh9"
      },
      "execution_count": 78,
      "outputs": []
    },
    {
      "cell_type": "markdown",
      "source": [
        "**Firstly generate some fake data**"
      ],
      "metadata": {
        "id": "G6ViPSG1MK4S"
      }
    },
    {
      "cell_type": "code",
      "source": [
        "x = torch.linspace(-5, 5, 200)  # x data (tensor), shape=(200, 1)\n",
        "print('original x:\\n', x)\n",
        "print(type(x))\n",
        "x = Variable(x)\n",
        "print('variable x:\\n', x)\n",
        "print(type(x))\n",
        "x_np = x.data.numpy()   # numpy array for plotting\n",
        "print(x_np)\n",
        "print(type(x_np))"
      ],
      "metadata": {
        "colab": {
          "base_uri": "https://localhost:8080/"
        },
        "id": "g-M24PK9MPg2",
        "outputId": "8013aee9-3876-42df-d35b-22aa1feaee79"
      },
      "execution_count": 76,
      "outputs": [
        {
          "output_type": "stream",
          "name": "stdout",
          "text": [
            "original x:\n",
            " tensor([-5.0000, -4.9497, -4.8995, -4.8492, -4.7990, -4.7487, -4.6985, -4.6482,\n",
            "        -4.5980, -4.5477, -4.4975, -4.4472, -4.3970, -4.3467, -4.2965, -4.2462,\n",
            "        -4.1960, -4.1457, -4.0955, -4.0452, -3.9950, -3.9447, -3.8945, -3.8442,\n",
            "        -3.7940, -3.7437, -3.6935, -3.6432, -3.5930, -3.5427, -3.4925, -3.4422,\n",
            "        -3.3920, -3.3417, -3.2915, -3.2412, -3.1910, -3.1407, -3.0905, -3.0402,\n",
            "        -2.9899, -2.9397, -2.8894, -2.8392, -2.7889, -2.7387, -2.6884, -2.6382,\n",
            "        -2.5879, -2.5377, -2.4874, -2.4372, -2.3869, -2.3367, -2.2864, -2.2362,\n",
            "        -2.1859, -2.1357, -2.0854, -2.0352, -1.9849, -1.9347, -1.8844, -1.8342,\n",
            "        -1.7839, -1.7337, -1.6834, -1.6332, -1.5829, -1.5327, -1.4824, -1.4322,\n",
            "        -1.3819, -1.3317, -1.2814, -1.2312, -1.1809, -1.1307, -1.0804, -1.0302,\n",
            "        -0.9799, -0.9296, -0.8794, -0.8291, -0.7789, -0.7286, -0.6784, -0.6281,\n",
            "        -0.5779, -0.5276, -0.4774, -0.4271, -0.3769, -0.3266, -0.2764, -0.2261,\n",
            "        -0.1759, -0.1256, -0.0754, -0.0251,  0.0251,  0.0754,  0.1256,  0.1759,\n",
            "         0.2261,  0.2764,  0.3266,  0.3769,  0.4271,  0.4774,  0.5276,  0.5779,\n",
            "         0.6281,  0.6784,  0.7286,  0.7789,  0.8291,  0.8794,  0.9296,  0.9799,\n",
            "         1.0302,  1.0804,  1.1307,  1.1809,  1.2312,  1.2814,  1.3317,  1.3819,\n",
            "         1.4322,  1.4824,  1.5327,  1.5829,  1.6332,  1.6834,  1.7337,  1.7839,\n",
            "         1.8342,  1.8844,  1.9347,  1.9849,  2.0352,  2.0854,  2.1357,  2.1859,\n",
            "         2.2362,  2.2864,  2.3367,  2.3869,  2.4372,  2.4874,  2.5377,  2.5879,\n",
            "         2.6382,  2.6884,  2.7387,  2.7889,  2.8392,  2.8894,  2.9397,  2.9899,\n",
            "         3.0402,  3.0905,  3.1407,  3.1910,  3.2412,  3.2915,  3.3417,  3.3920,\n",
            "         3.4422,  3.4925,  3.5427,  3.5930,  3.6432,  3.6935,  3.7437,  3.7940,\n",
            "         3.8442,  3.8945,  3.9447,  3.9950,  4.0452,  4.0955,  4.1457,  4.1960,\n",
            "         4.2462,  4.2965,  4.3467,  4.3970,  4.4472,  4.4975,  4.5477,  4.5980,\n",
            "         4.6482,  4.6985,  4.7487,  4.7990,  4.8492,  4.8995,  4.9497,  5.0000])\n",
            "<class 'torch.Tensor'>\n",
            "variable x:\n",
            " tensor([-5.0000, -4.9497, -4.8995, -4.8492, -4.7990, -4.7487, -4.6985, -4.6482,\n",
            "        -4.5980, -4.5477, -4.4975, -4.4472, -4.3970, -4.3467, -4.2965, -4.2462,\n",
            "        -4.1960, -4.1457, -4.0955, -4.0452, -3.9950, -3.9447, -3.8945, -3.8442,\n",
            "        -3.7940, -3.7437, -3.6935, -3.6432, -3.5930, -3.5427, -3.4925, -3.4422,\n",
            "        -3.3920, -3.3417, -3.2915, -3.2412, -3.1910, -3.1407, -3.0905, -3.0402,\n",
            "        -2.9899, -2.9397, -2.8894, -2.8392, -2.7889, -2.7387, -2.6884, -2.6382,\n",
            "        -2.5879, -2.5377, -2.4874, -2.4372, -2.3869, -2.3367, -2.2864, -2.2362,\n",
            "        -2.1859, -2.1357, -2.0854, -2.0352, -1.9849, -1.9347, -1.8844, -1.8342,\n",
            "        -1.7839, -1.7337, -1.6834, -1.6332, -1.5829, -1.5327, -1.4824, -1.4322,\n",
            "        -1.3819, -1.3317, -1.2814, -1.2312, -1.1809, -1.1307, -1.0804, -1.0302,\n",
            "        -0.9799, -0.9296, -0.8794, -0.8291, -0.7789, -0.7286, -0.6784, -0.6281,\n",
            "        -0.5779, -0.5276, -0.4774, -0.4271, -0.3769, -0.3266, -0.2764, -0.2261,\n",
            "        -0.1759, -0.1256, -0.0754, -0.0251,  0.0251,  0.0754,  0.1256,  0.1759,\n",
            "         0.2261,  0.2764,  0.3266,  0.3769,  0.4271,  0.4774,  0.5276,  0.5779,\n",
            "         0.6281,  0.6784,  0.7286,  0.7789,  0.8291,  0.8794,  0.9296,  0.9799,\n",
            "         1.0302,  1.0804,  1.1307,  1.1809,  1.2312,  1.2814,  1.3317,  1.3819,\n",
            "         1.4322,  1.4824,  1.5327,  1.5829,  1.6332,  1.6834,  1.7337,  1.7839,\n",
            "         1.8342,  1.8844,  1.9347,  1.9849,  2.0352,  2.0854,  2.1357,  2.1859,\n",
            "         2.2362,  2.2864,  2.3367,  2.3869,  2.4372,  2.4874,  2.5377,  2.5879,\n",
            "         2.6382,  2.6884,  2.7387,  2.7889,  2.8392,  2.8894,  2.9397,  2.9899,\n",
            "         3.0402,  3.0905,  3.1407,  3.1910,  3.2412,  3.2915,  3.3417,  3.3920,\n",
            "         3.4422,  3.4925,  3.5427,  3.5930,  3.6432,  3.6935,  3.7437,  3.7940,\n",
            "         3.8442,  3.8945,  3.9447,  3.9950,  4.0452,  4.0955,  4.1457,  4.1960,\n",
            "         4.2462,  4.2965,  4.3467,  4.3970,  4.4472,  4.4975,  4.5477,  4.5980,\n",
            "         4.6482,  4.6985,  4.7487,  4.7990,  4.8492,  4.8995,  4.9497,  5.0000])\n",
            "<class 'torch.Tensor'>\n",
            "[-5.         -4.9497485  -4.8994975  -4.849246   -4.798995   -4.7487435\n",
            " -4.6984925  -4.648241   -4.59799    -4.5477386  -4.4974875  -4.447236\n",
            " -4.396985   -4.3467336  -4.2964826  -4.246231   -4.19598    -4.1457286\n",
            " -4.0954776  -4.045226   -3.994975   -3.9447238  -3.8944726  -3.8442214\n",
            " -3.7939699  -3.7437186  -3.6934674  -3.6432161  -3.592965   -3.5427136\n",
            " -3.4924624  -3.4422112  -3.3919597  -3.3417084  -3.2914572  -3.241206\n",
            " -3.1909547  -3.1407034  -3.0904522  -3.040201   -2.9899497  -2.9396985\n",
            " -2.8894472  -2.839196   -2.7889447  -2.7386935  -2.6884422  -2.638191\n",
            " -2.5879397  -2.5376885  -2.4874372  -2.437186   -2.3869348  -2.3366835\n",
            " -2.2864323  -2.236181   -2.1859295  -2.1356783  -2.085427   -2.0351758\n",
            " -1.9849246  -1.9346733  -1.8844221  -1.8341707  -1.7839196  -1.7336683\n",
            " -1.6834171  -1.6331658  -1.5829146  -1.5326633  -1.4824121  -1.4321607\n",
            " -1.3819095  -1.3316582  -1.281407   -1.2311558  -1.1809045  -1.1306531\n",
            " -1.0804019  -1.0301507  -0.97989947 -0.9296482  -0.879397   -0.82914567\n",
            " -0.7788944  -0.7286432  -0.67839193 -0.6281407  -0.57788944 -0.5276382\n",
            " -0.47738692 -0.42713568 -0.3768844  -0.32663316 -0.2763819  -0.22613063\n",
            " -0.17587936 -0.1256281  -0.07537685 -0.02512559  0.02512567  0.07537693\n",
            "  0.12562817  0.17587945  0.22613062  0.27638188  0.32663313  0.3768844\n",
            "  0.42713565  0.4773869   0.52763814  0.57788944  0.6281407   0.67839193\n",
            "  0.7286432   0.7788944   0.8291457   0.879397    0.9296482   0.9798995\n",
            "  1.0301508   1.080402    1.1306533   1.1809045   1.2311558   1.2814071\n",
            "  1.3316584   1.3819096   1.4321607   1.482412    1.5326632   1.5829145\n",
            "  1.6331657   1.6834171   1.7336683   1.7839196   1.8341708   1.8844221\n",
            "  1.9346733   1.9849246   2.0351758   2.085427    2.1356783   2.1859295\n",
            "  2.2361808   2.286432    2.3366833   2.3869345   2.4371858   2.487437\n",
            "  2.5376883   2.5879395   2.638191    2.6884422   2.7386935   2.7889447\n",
            "  2.839196    2.8894472   2.9396985   2.9899497   3.040201    3.0904522\n",
            "  3.1407034   3.1909547   3.241206    3.2914572   3.3417084   3.3919597\n",
            "  3.4422112   3.4924624   3.5427136   3.592965    3.6432161   3.6934674\n",
            "  3.7437186   3.7939699   3.844221    3.8944724   3.9447236   3.9949749\n",
            "  4.045226    4.0954776   4.1457286   4.19598     4.246231    4.2964826\n",
            "  4.3467336   4.396985    4.447236    4.4974875   4.5477386   4.59799\n",
            "  4.648241    4.6984925   4.7487435   4.798995    4.849246    4.8994975\n",
            "  4.9497485   5.        ]\n",
            "<class 'numpy.ndarray'>\n"
          ]
        }
      ]
    },
    {
      "cell_type": "markdown",
      "source": [
        "**popular activation functions**"
      ],
      "metadata": {
        "id": "BXKB24gVM-S3"
      }
    },
    {
      "cell_type": "code",
      "source": [
        "# tensor 带入函数，得到一个tensor之后，再转化会numpy\n",
        "print(type(F.relu(x).data))\n",
        "print(type(F.relu(x)))\n",
        "y_relu = F.relu(x).data.numpy()\n",
        "y_sigmoid = torch.sigmoid(x).data.numpy()\n",
        "y_tanh = torch.tanh(x).data.numpy()\n",
        "y_softplus = F.softplus(x).data.numpy()"
      ],
      "metadata": {
        "colab": {
          "base_uri": "https://localhost:8080/"
        },
        "id": "o7x71eSCNAmC",
        "outputId": "24534669-47d8-483f-819b-9491f3651c82"
      },
      "execution_count": 80,
      "outputs": [
        {
          "output_type": "stream",
          "name": "stdout",
          "text": [
            "<class 'torch.Tensor'>\n",
            "<class 'torch.Tensor'>\n"
          ]
        }
      ]
    },
    {
      "cell_type": "markdown",
      "source": [
        "**Plot to visualize these activation function**"
      ],
      "metadata": {
        "id": "d4RA19qnNoHD"
      }
    },
    {
      "cell_type": "code",
      "source": [
        "%matplotlib inline\n",
        "\n",
        "plt.figure(1, figsize=(8, 6))\n",
        "plt.subplot(221)\n",
        "plt.plot(x_np, y_relu, c='red', label='relu')\n",
        "plt.ylim((-1, 5))\n",
        "plt.legend(loc='best')\n",
        "\n",
        "plt.subplot(222)\n",
        "plt.plot(x_np, y_sigmoid, c='red', label='sigmoid')\n",
        "plt.ylim((-0.2, 1.2))\n",
        "plt.legend(loc='best')\n",
        "\n",
        "plt.subplot(223)\n",
        "plt.plot(x_np, y_tanh, c='red', label='tanh')\n",
        "plt.ylim((-1.2, 1.2))\n",
        "plt.legend(loc='best')\n",
        "\n",
        "plt.subplot(224)\n",
        "plt.plot(x_np, y_softplus, c='red', label='softplus')\n",
        "plt.ylim((-0.2, 6))\n",
        "plt.legend(loc='best')\n",
        "\n",
        "plt.show()"
      ],
      "metadata": {
        "colab": {
          "base_uri": "https://localhost:8080/",
          "height": 378
        },
        "id": "RggHLLNDNoio",
        "outputId": "9cb2fd00-b0bc-47b8-b525-b3b2906641d1"
      },
      "execution_count": 81,
      "outputs": [
        {
          "output_type": "display_data",
          "data": {
            "text/plain": [
              "<Figure size 576x432 with 4 Axes>"
            ],
            "image/png": "[encoded data removed]"
          },
          "metadata": {
            "needs_background": "light"
          }
        }
      ]
    }
  ]
}